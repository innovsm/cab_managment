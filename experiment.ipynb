{
 "cells": [
  {
   "attachments": {},
   "cell_type": "markdown",
   "metadata": {},
   "source": [
    "<h1> Cab Managment System </h1>"
   ]
  },
  {
   "cell_type": "code",
   "execution_count": 1,
   "metadata": {},
   "outputs": [
    {
     "data": {
      "text/plain": [
       "'\\nalfa_gama \\n'"
      ]
     },
     "execution_count": 1,
     "metadata": {},
     "output_type": "execute_result"
    }
   ],
   "source": [
    "import  mysql.connector\n",
    "\n",
    "# cloud data\n",
    "\"\"\"\n",
    "alfa_gama \n",
    "\"\"\""
   ]
  },
  {
   "cell_type": "code",
   "execution_count": 2,
   "metadata": {},
   "outputs": [],
   "source": [
    "def get_cabs():\n",
    "    connector = mysql.connector.connect(\n",
    "    host=\"sql.freedb.tech\",\n",
    "    user=\"freedb_shubhanshumishra\",\n",
    "    password=\"!ata%t$Fk39QF6!\",\n",
    "    database=\"freedb_CabManagment\"\n",
    "    )\n",
    "    cursor = connector.cursor()\n",
    "    cursor.execute(\"SELECT * FROM cabs\")\n",
    "    final_list = []\n",
    "    for i in cursor:\n",
    "        final_list.append(i)\n",
    "    return final_list"
   ]
  },
  {
   "cell_type": "code",
   "execution_count": 8,
   "metadata": {},
   "outputs": [
    {
     "data": {
      "text/plain": [
       "[('afkhuuj36', 'toyota innova', 'white')]"
      ]
     },
     "execution_count": 8,
     "metadata": {},
     "output_type": "execute_result"
    }
   ],
   "source": [
    "get_cabs()"
   ]
  },
  {
   "cell_type": "code",
   "execution_count": 9,
   "metadata": {},
   "outputs": [],
   "source": [
    "def update_cab(new_cab_id, cab_model,cab_color,cab_id):\n",
    "        connector = mysql.connector.connect(\n",
    "                            host=\"sql.freedb.tech\",\n",
    "                            user=\"freedb_shubhanshumishra\",\n",
    "                            password=\"!ata%t$Fk39QF6!\",\n",
    "                            database=\"freedb_CabManagment\"\n",
    "                            )\n",
    "        mycursor = connector.cursor()\n",
    "        sql = \"UPDATE cabs SET cab_registration_number = %s, model = %s, color = %s WHERE cab_registration_number = %s\"\n",
    "        val = (new_cab_id, cab_model , cab_color,cab_id,)\n",
    "        mycursor.execute(sql, val)\n",
    "        connector.commit()\n",
    "        return \"succes\""
   ]
  },
  {
   "cell_type": "code",
   "execution_count": 10,
   "metadata": {},
   "outputs": [
    {
     "ename": "IntegrityError",
     "evalue": "1451 (23000): Cannot delete or update a parent row: a foreign key constraint fails (`freedb_CabManagment`.`assignment`, CONSTRAINT `assignment_ibfk_1` FOREIGN KEY (`cab_registration_number`) REFERENCES `cabs` (`cab_registration_number`))",
     "output_type": "error",
     "traceback": [
      "\u001b[1;31m---------------------------------------------------------------------------\u001b[0m",
      "\u001b[1;31mMySQLInterfaceError\u001b[0m                       Traceback (most recent call last)",
      "File \u001b[1;32mc:\\Users\\hp\\anaconda3\\envs\\NLP\\Lib\\site-packages\\mysql\\connector\\connection_cext.py:611\u001b[0m, in \u001b[0;36mCMySQLConnection.cmd_query\u001b[1;34m(self, query, raw, buffered, raw_as_string)\u001b[0m\n\u001b[0;32m    610\u001b[0m         query \u001b[39m=\u001b[39m query\u001b[39m.\u001b[39mencode(\u001b[39m\"\u001b[39m\u001b[39mutf-8\u001b[39m\u001b[39m\"\u001b[39m)\n\u001b[1;32m--> 611\u001b[0m     \u001b[39mself\u001b[39;49m\u001b[39m.\u001b[39;49m_cmysql\u001b[39m.\u001b[39;49mquery(\n\u001b[0;32m    612\u001b[0m         query,\n\u001b[0;32m    613\u001b[0m         raw\u001b[39m=\u001b[39;49mraw,\n\u001b[0;32m    614\u001b[0m         buffered\u001b[39m=\u001b[39;49mbuffered,\n\u001b[0;32m    615\u001b[0m         raw_as_string\u001b[39m=\u001b[39;49mraw_as_string,\n\u001b[0;32m    616\u001b[0m         query_attrs\u001b[39m=\u001b[39;49m\u001b[39mself\u001b[39;49m\u001b[39m.\u001b[39;49m_query_attrs,\n\u001b[0;32m    617\u001b[0m     )\n\u001b[0;32m    618\u001b[0m \u001b[39mexcept\u001b[39;00m MySQLInterfaceError \u001b[39mas\u001b[39;00m err:\n",
      "\u001b[1;31mMySQLInterfaceError\u001b[0m: Cannot delete or update a parent row: a foreign key constraint fails (`freedb_CabManagment`.`assignment`, CONSTRAINT `assignment_ibfk_1` FOREIGN KEY (`cab_registration_number`) REFERENCES `cabs` (`cab_registration_number`))",
      "\nThe above exception was the direct cause of the following exception:\n",
      "\u001b[1;31mIntegrityError\u001b[0m                            Traceback (most recent call last)",
      "Cell \u001b[1;32mIn[10], line 1\u001b[0m\n\u001b[1;32m----> 1\u001b[0m update_cab(\u001b[39m\"\u001b[39;49m\u001b[39mUP32AB1234\u001b[39;49m\u001b[39m\"\u001b[39;49m,\u001b[39m\"\u001b[39;49m\u001b[39mMaruti\u001b[39;49m\u001b[39m\"\u001b[39;49m,\u001b[39m\"\u001b[39;49m\u001b[39mRed\u001b[39;49m\u001b[39m\"\u001b[39;49m,\u001b[39m\"\u001b[39;49m\u001b[39mafkhuuj36\u001b[39;49m\u001b[39m\"\u001b[39;49m)\n",
      "Cell \u001b[1;32mIn[9], line 11\u001b[0m, in \u001b[0;36mupdate_cab\u001b[1;34m(new_cab_id, cab_model, cab_color, cab_id)\u001b[0m\n\u001b[0;32m      9\u001b[0m sql \u001b[39m=\u001b[39m \u001b[39m\"\u001b[39m\u001b[39mUPDATE cabs SET cab_registration_number = \u001b[39m\u001b[39m%s\u001b[39;00m\u001b[39m, model = \u001b[39m\u001b[39m%s\u001b[39;00m\u001b[39m, color = \u001b[39m\u001b[39m%s\u001b[39;00m\u001b[39m WHERE cab_registration_number = \u001b[39m\u001b[39m%s\u001b[39;00m\u001b[39m\"\u001b[39m\n\u001b[0;32m     10\u001b[0m val \u001b[39m=\u001b[39m (new_cab_id, cab_model , cab_color,cab_id,)\n\u001b[1;32m---> 11\u001b[0m mycursor\u001b[39m.\u001b[39;49mexecute(sql, val)\n\u001b[0;32m     12\u001b[0m connector\u001b[39m.\u001b[39mcommit()\n\u001b[0;32m     13\u001b[0m \u001b[39mreturn\u001b[39;00m \u001b[39m\"\u001b[39m\u001b[39msucces\u001b[39m\u001b[39m\"\u001b[39m\n",
      "File \u001b[1;32mc:\\Users\\hp\\anaconda3\\envs\\NLP\\Lib\\site-packages\\mysql\\connector\\cursor_cext.py:330\u001b[0m, in \u001b[0;36mCMySQLCursor.execute\u001b[1;34m(self, operation, params, multi)\u001b[0m\n\u001b[0;32m    325\u001b[0m             \u001b[39mraise\u001b[39;00m ProgrammingError(\n\u001b[0;32m    326\u001b[0m                 \u001b[39m\"\u001b[39m\u001b[39mNot all parameters were used in the SQL statement\u001b[39m\u001b[39m\"\u001b[39m\n\u001b[0;32m    327\u001b[0m             )\n\u001b[0;32m    329\u001b[0m \u001b[39mtry\u001b[39;00m:\n\u001b[1;32m--> 330\u001b[0m     result \u001b[39m=\u001b[39m \u001b[39mself\u001b[39;49m\u001b[39m.\u001b[39;49m_cnx\u001b[39m.\u001b[39;49mcmd_query(\n\u001b[0;32m    331\u001b[0m         stmt,\n\u001b[0;32m    332\u001b[0m         raw\u001b[39m=\u001b[39;49m\u001b[39mself\u001b[39;49m\u001b[39m.\u001b[39;49m_raw,\n\u001b[0;32m    333\u001b[0m         buffered\u001b[39m=\u001b[39;49m\u001b[39mself\u001b[39;49m\u001b[39m.\u001b[39;49m_buffered,\n\u001b[0;32m    334\u001b[0m         raw_as_string\u001b[39m=\u001b[39;49m\u001b[39mself\u001b[39;49m\u001b[39m.\u001b[39;49m_raw_as_string,\n\u001b[0;32m    335\u001b[0m     )\n\u001b[0;32m    336\u001b[0m \u001b[39mexcept\u001b[39;00m MySQLInterfaceError \u001b[39mas\u001b[39;00m err:\n\u001b[0;32m    337\u001b[0m     \u001b[39mraise\u001b[39;00m get_mysql_exception(\n\u001b[0;32m    338\u001b[0m         msg\u001b[39m=\u001b[39merr\u001b[39m.\u001b[39mmsg, errno\u001b[39m=\u001b[39merr\u001b[39m.\u001b[39merrno, sqlstate\u001b[39m=\u001b[39merr\u001b[39m.\u001b[39msqlstate\n\u001b[0;32m    339\u001b[0m     ) \u001b[39mfrom\u001b[39;00m \u001b[39merr\u001b[39;00m\n",
      "File \u001b[1;32mc:\\Users\\hp\\anaconda3\\envs\\NLP\\Lib\\site-packages\\mysql\\connector\\connection_cext.py:619\u001b[0m, in \u001b[0;36mCMySQLConnection.cmd_query\u001b[1;34m(self, query, raw, buffered, raw_as_string)\u001b[0m\n\u001b[0;32m    611\u001b[0m     \u001b[39mself\u001b[39m\u001b[39m.\u001b[39m_cmysql\u001b[39m.\u001b[39mquery(\n\u001b[0;32m    612\u001b[0m         query,\n\u001b[0;32m    613\u001b[0m         raw\u001b[39m=\u001b[39mraw,\n\u001b[1;32m   (...)\u001b[0m\n\u001b[0;32m    616\u001b[0m         query_attrs\u001b[39m=\u001b[39m\u001b[39mself\u001b[39m\u001b[39m.\u001b[39m_query_attrs,\n\u001b[0;32m    617\u001b[0m     )\n\u001b[0;32m    618\u001b[0m \u001b[39mexcept\u001b[39;00m MySQLInterfaceError \u001b[39mas\u001b[39;00m err:\n\u001b[1;32m--> 619\u001b[0m     \u001b[39mraise\u001b[39;00m get_mysql_exception(\n\u001b[0;32m    620\u001b[0m         err\u001b[39m.\u001b[39merrno, msg\u001b[39m=\u001b[39merr\u001b[39m.\u001b[39mmsg, sqlstate\u001b[39m=\u001b[39merr\u001b[39m.\u001b[39msqlstate\n\u001b[0;32m    621\u001b[0m     ) \u001b[39mfrom\u001b[39;00m \u001b[39merr\u001b[39;00m\n\u001b[0;32m    622\u001b[0m \u001b[39mexcept\u001b[39;00m \u001b[39mAttributeError\u001b[39;00m \u001b[39mas\u001b[39;00m err:\n\u001b[0;32m    623\u001b[0m     addr \u001b[39m=\u001b[39m (\n\u001b[0;32m    624\u001b[0m         \u001b[39mself\u001b[39m\u001b[39m.\u001b[39m_unix_socket \u001b[39mif\u001b[39;00m \u001b[39mself\u001b[39m\u001b[39m.\u001b[39m_unix_socket \u001b[39melse\u001b[39;00m \u001b[39mf\u001b[39m\u001b[39m\"\u001b[39m\u001b[39m{\u001b[39;00m\u001b[39mself\u001b[39m\u001b[39m.\u001b[39m_host\u001b[39m}\u001b[39;00m\u001b[39m:\u001b[39m\u001b[39m{\u001b[39;00m\u001b[39mself\u001b[39m\u001b[39m.\u001b[39m_port\u001b[39m}\u001b[39;00m\u001b[39m\"\u001b[39m\n\u001b[0;32m    625\u001b[0m     )\n",
      "\u001b[1;31mIntegrityError\u001b[0m: 1451 (23000): Cannot delete or update a parent row: a foreign key constraint fails (`freedb_CabManagment`.`assignment`, CONSTRAINT `assignment_ibfk_1` FOREIGN KEY (`cab_registration_number`) REFERENCES `cabs` (`cab_registration_number`))"
     ]
    }
   ],
   "source": [
    "update_cab(\"UP32AB1234\",\"Maruti\",\"Red\",\"afkhuuj36\")\n"
   ]
  },
  {
   "cell_type": "code",
   "execution_count": 7,
   "metadata": {},
   "outputs": [
    {
     "name": "stdout",
     "output_type": "stream",
     "text": [
      "('freedb_CabManagment',)\n",
      "('information_schema',)\n"
     ]
    }
   ],
   "source": [
    "connector = mysql.connector.connect(\n",
    "    host = \"sql.freedb.tech\",\n",
    "    user = \"freedb_shubhanshumishra\",\n",
    "    password = \"!ata%t$Fk39QF6!\"\n",
    ")\n",
    "\n",
    "cursor = connector.cursor()\n",
    "cursor.execute(\"SHOW DATABASES\")\n",
    "for i in cursor:\n",
    "    print(i)\n",
    "\n",
    "\n"
   ]
  },
  {
   "cell_type": "code",
   "execution_count": 10,
   "metadata": {},
   "outputs": [],
   "source": [
    "import mysql.connector\n",
    "\n",
    "# Establishing the database connection\n",
    "connector = mysql.connector.connect(\n",
    "    host=\"sql.freedb.tech\",\n",
    "    user=\"freedb_shubhanshumishra\",\n",
    "    password=\"!ata%t$Fk39QF6!\",\n",
    "    database=\"freedb_CabManagment\"\n",
    ")\n",
    "\n",
    "# Creating a cursor object to execute SQL queries\n",
    "cursor = connector.cursor()\n",
    "\n",
    "# Creating the \"driver\" table\n",
    "create_table_query = \"\"\"\n",
    "CREATE TABLE driver (\n",
    "    driver_id INT PRIMARY KEY,\n",
    "    driver_name VARCHAR(255),\n",
    "    email VARCHAR(255),\n",
    "    phone_number VARCHAR(20)\n",
    ")\n",
    "\"\"\"\n",
    "cursor.execute(create_table_query)\n",
    "\n",
    "# Committing the changes and closing the cursor and connection\n",
    "connector.commit()\n",
    "cursor.close()\n",
    "\n",
    "\n"
   ]
  },
  {
   "cell_type": "code",
   "execution_count": 10,
   "metadata": {},
   "outputs": [],
   "source": [
    "import mysql.connector\n",
    "\n",
    "# Establishing the database connection\n",
    "connector = mysql.connector.connect(\n",
    "    host=\"sql.freedb.tech\",\n",
    "    user=\"freedb_shubhanshumishra\",\n",
    "    password=\"!ata%t$Fk39QF6!\",\n",
    "    database=\"freedb_CabManagment\"\n",
    ")\n",
    "\n",
    "# Creating a cursor object to execute SQL queries\n",
    "cursor = connector.cursor()\n",
    "\n",
    "# Creating the \"assignment\" table\n",
    "create_table_query = \"\"\"\n",
    "CREATE TABLE assignment (\n",
    "    cab_registration_number VARCHAR(50),\n",
    "    driver_id INT,\n",
    "    name VARCHAR(255),\n",
    "    FOREIGN KEY (cab_registration_number) REFERENCES cabs(cab_registration_number),\n",
    "    FOREIGN KEY (driver_id) REFERENCES driver(driver_id)\n",
    ")\n",
    "\"\"\"\n",
    "cursor.execute(create_table_query)\n",
    "\n",
    "# Committing the changes and closing the cursor and connection\n",
    "connector.commit()\n",
    "cursor.close()\n",
    "connector.close()\n"
   ]
  },
  {
   "cell_type": "code",
   "execution_count": 14,
   "metadata": {},
   "outputs": [],
   "source": [
    "def add_data(regestration_number, driver_id):\n",
    "        \n",
    "    connector = mysql.connector.connect(\n",
    "\n",
    "        host=\"sql.freedb.tech\",\n",
    "        user=\"freedb_shubhanshumishra\",\n",
    "        password=\"!ata%t$Fk39QF6!\",\n",
    "        database=\"freedb_CabManagment\"\n",
    "        )\n",
    "    mycursor = connector.cursor()\n",
    "    sql = \"INSERT INTO assignment (cab_registration_number, driver_id) VALUES (%s, %s)\"\n",
    "    val = (regestration_number,driver_id)\n",
    "    mycursor.execute(sql, val)\n",
    "    connector.commit()"
   ]
  },
  {
   "cell_type": "code",
   "execution_count": 15,
   "metadata": {},
   "outputs": [],
   "source": [
    "add_data(\"afkhuuj36\",12064)"
   ]
  },
  {
   "cell_type": "code",
   "execution_count": 7,
   "metadata": {},
   "outputs": [],
   "source": [
    "import mysql.connector\n",
    "\n",
    "# Establishing the database connection\n",
    "connector = mysql.connector.connect(\n",
    "    host=\"sql.freedb.tech\",\n",
    "    user=\"freedb_shubhanshumishra\",\n",
    "    password=\"!ata%t$Fk39QF6!\",\n",
    "    database=\"freedb_CabManagment\"\n",
    ")\n",
    "\n",
    "# Creating a cursor object to execute SQL queries\n",
    "cursor = connector.cursor()\n",
    "\n",
    "# Creating the \"cabs\" table\n",
    "create_table_query = \"\"\"\n",
    "CREATE TABLE cabs (\n",
    "    cab_registration_number VARCHAR(50) PRIMARY KEY,\n",
    "    model VARCHAR(255),\n",
    "    color VARCHAR(255)\n",
    ")\n",
    "\"\"\"\n",
    "cursor.execute(create_table_query)\n",
    "\n",
    "# Committing the changes and closing the cursor and connection\n",
    "connector.commit()\n",
    "cursor.close()\n",
    "connector.close()\n"
   ]
  },
  {
   "cell_type": "code",
   "execution_count": 11,
   "metadata": {},
   "outputs": [
    {
     "name": "stdout",
     "output_type": "stream",
     "text": [
      "('assignment',)\n",
      "('cabs',)\n",
      "('driver',)\n"
     ]
    }
   ],
   "source": [
    "connector = mysql.connector.connect(\n",
    "    host=\"sql.freedb.tech\",\n",
    "    user=\"freedb_shubhanshumishra\",\n",
    "    password=\"!ata%t$Fk39QF6!\",\n",
    "    database=\"freedb_CabManagment\"\n",
    ")\n",
    "cursor = connector.cursor()\n",
    "cursor.execute(\"SHOW TABLES\")\n",
    "for i in cursor:\n",
    "    print(i)"
   ]
  },
  {
   "cell_type": "code",
   "execution_count": 13,
   "metadata": {},
   "outputs": [],
   "source": [
    "def get_driver():\n",
    "    connector = mysql.connector.connect(\n",
    "    host=\"sql.freedb.tech\",\n",
    "    user=\"freedb_shubhanshumishra\",\n",
    "    password=\"!ata%t$Fk39QF6!\",\n",
    "    database=\"freedb_CabManagment\"\n",
    "    )\n",
    "    cursor = connector.cursor()\n",
    "    cursor.execute(\"SELECT * FROM driver\")\n",
    "    final_list = []\n",
    "    for i in cursor:\n",
    "        final_list.append(i)\n",
    "    return final_list"
   ]
  },
  {
   "cell_type": "code",
   "execution_count": 14,
   "metadata": {},
   "outputs": [
    {
     "name": "stdout",
     "output_type": "stream",
     "text": [
      "(1234, 'xyz', 'rollsroyace360@gmail.com', '9399725803')\n",
      "(6969, 'afaaf', 'rollsroyace360@gmail.com', '9399725803')\n"
     ]
    }
   ],
   "source": [
    "get_driver()"
   ]
  },
  {
   "cell_type": "code",
   "execution_count": 4,
   "metadata": {},
   "outputs": [],
   "source": [
    "def get_driver_specific(driver_id):\n",
    "    connector = mysql.connector.connect(\n",
    "    host=\"sql.freedb.tech\",\n",
    "    user=\"freedb_shubhanshumishra\",\n",
    "    password=\"!ata%t$Fk39QF6!\",\n",
    "    database=\"freedb_CabManagment\"\n",
    "    )\n",
    "    cursor = connector.cursor()\n",
    "    query = \"SELECT * FROM driver WHERE driver_id = %s\"\n",
    "    val = (driver_id,)\n",
    "    cursor.execute(query, val)\n",
    "\n",
    "    final_list = []\n",
    "    for i in cursor:\n",
    "        final_list.append(i)\n",
    "    return final_list"
   ]
  },
  {
   "cell_type": "code",
   "execution_count": 6,
   "metadata": {},
   "outputs": [
    {
     "data": {
      "text/plain": [
       "'succes'"
      ]
     },
     "execution_count": 6,
     "metadata": {},
     "output_type": "execute_result"
    }
   ],
   "source": [
    "def update_driver(driver_id,new_driver_id, driver_name,driver_email, driver_phone):\n",
    "        connector = mysql.connector.connect(\n",
    "                            host=\"sql.freedb.tech\",\n",
    "                            user=\"freedb_shubhanshumishra\",\n",
    "                            password=\"!ata%t$Fk39QF6!\",\n",
    "                            database=\"freedb_CabManagment\"\n",
    "                            )\n",
    "        mycursor = connector.cursor()\n",
    "        sql = \"UPDATE driver SET driver_id = %s, driver_name = %s, email = %s, phone_number = %s WHERE driver_id = %s\"\n",
    "        val = (int(new_driver_id), driver_name, driver_email, driver_phone, int(driver_id))\n",
    "        mycursor.execute(sql, val)\n",
    "        connector.commit()\n",
    "        return \"succes\"\n",
    "\n",
    "update_driver(123456,654321,\"xyz\",\"gama@gmail.com\",9899912345)\n",
    "\n",
    "         "
   ]
  },
  {
   "cell_type": "code",
   "execution_count": 16,
   "metadata": {},
   "outputs": [],
   "source": [
    "import mysql.connector\n",
    "\n",
    "# Establishing the database connection\n",
    "connector = mysql.connector.connect(\n",
    "    host=\"sql.freedb.tech\",\n",
    "    user=\"freedb_shubhanshumishra\",\n",
    "    password=\"!ata%t$Fk39QF6!\",\n",
    "    database=\"freedb_CabManagment\"\n",
    ")\n",
    "\n",
    "# Creating a cursor object to execute SQL queries\n",
    "cursor = connector.cursor()\n",
    "\n",
    "# Dropping the table\n",
    "drop_table_query = \"DROP TABLE assignment\"\n",
    "cursor.execute(drop_table_query)\n",
    "\n",
    "# Committing the changes and closing the cursor and connection\n",
    "connector.commit()\n",
    "cursor.close()\n",
    "connector.close()\n"
   ]
  }
 ],
 "metadata": {
  "kernelspec": {
   "display_name": "NLP",
   "language": "python",
   "name": "python3"
  },
  "language_info": {
   "codemirror_mode": {
    "name": "ipython",
    "version": 3
   },
   "file_extension": ".py",
   "mimetype": "text/x-python",
   "name": "python",
   "nbconvert_exporter": "python",
   "pygments_lexer": "ipython3",
   "version": "3.11.2"
  },
  "orig_nbformat": 4
 },
 "nbformat": 4,
 "nbformat_minor": 2
}
